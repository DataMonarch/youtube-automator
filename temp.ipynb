{
 "cells": [
  {
   "cell_type": "code",
   "execution_count": 1,
   "metadata": {},
   "outputs": [],
   "source": [
    "import tomli\n",
    "import json"
   ]
  },
  {
   "cell_type": "code",
   "execution_count": 2,
   "metadata": {},
   "outputs": [
    {
     "ename": "FileNotFoundError",
     "evalue": "[Errno 2] No such file or directory: 'conf.toml'",
     "output_type": "error",
     "traceback": [
      "\u001b[1;31m---------------------------------------------------------------------------\u001b[0m",
      "\u001b[1;31mFileNotFoundError\u001b[0m                         Traceback (most recent call last)",
      "\u001b[1;32mc:\\Users\\togru\\python-playground\\yt_automator\\youtube-automator\\temp.ipynb Cell 2\u001b[0m in \u001b[0;36m<cell line: 1>\u001b[1;34m()\u001b[0m\n\u001b[1;32m----> <a href='vscode-notebook-cell:/c%3A/Users/togru/python-playground/yt_automator/youtube-automator/temp.ipynb#W1sZmlsZQ%3D%3D?line=0'>1</a>\u001b[0m \u001b[39mwith\u001b[39;00m \u001b[39mopen\u001b[39;49m(\u001b[39m\"\u001b[39;49m\u001b[39mconf.toml\u001b[39;49m\u001b[39m\"\u001b[39;49m, mode\u001b[39m=\u001b[39;49m\u001b[39m\"\u001b[39;49m\u001b[39mrb\u001b[39;49m\u001b[39m\"\u001b[39;49m) \u001b[39mas\u001b[39;00m fp:\n\u001b[0;32m      <a href='vscode-notebook-cell:/c%3A/Users/togru/python-playground/yt_automator/youtube-automator/temp.ipynb#W1sZmlsZQ%3D%3D?line=1'>2</a>\u001b[0m     config \u001b[39m=\u001b[39m tomli\u001b[39m.\u001b[39mload(fp)\n\u001b[0;32m      <a href='vscode-notebook-cell:/c%3A/Users/togru/python-playground/yt_automator/youtube-automator/temp.ipynb#W1sZmlsZQ%3D%3D?line=2'>3</a>\u001b[0m     \u001b[39mprint\u001b[39m(config)\n",
      "\u001b[1;31mFileNotFoundError\u001b[0m: [Errno 2] No such file or directory: 'conf.toml'"
     ]
    }
   ],
   "source": [
    "with open(\"conf.toml\", mode=\"rb\") as fp:\n",
    "    config = tomli.load(fp)\n",
    "    print(config)\n"
   ]
  },
  {
   "cell_type": "code",
   "execution_count": 9,
   "metadata": {},
   "outputs": [
    {
     "name": "stdout",
     "output_type": "stream",
     "text": [
      "Welcome to /r/TalesFromRetail's Express Lane - your quick stop for short tales, pithy observations and general retail chat about how things are going with your store, your customers and yourselves.\n",
      "\n",
      "Any experiences with pandemic-related topics (mask issues, anti-vaxxer encounters, etc.) should also be posted here and not as a stand-alone tale.\n",
      "\n",
      "Please [follow the rules](/r/TalesFromRetail/wiki/) regarding anonymity and derogatory speech.  NO BUSINESS NAMES\n",
      "\n",
      "*(All comments will be sorted by \"new\")*\n",
      ">>> Comments:\n",
      "\n",
      "{'j2imuv6': [10, 'One time a customer was giving me shit (I refused to change the store\\'s donation policy to suit him), and a huge bee flew right past his head. I put out my hand and it landed on me, so I just said \"excuse me a minute\" to the very angry and utterly confused guy, and put the bee outside. When I came back in he decided to just leave 😂'], 'j2iv0gk': [11, 'I was not wearing a mask, per doctor’s orders, after having my nose reattached from a traumatic injury and had a customer tell me that I was just making excuses and she would report me and that I didn’t care about anyone but myself. Mind you, my face was a bloody mess of stitches and bruising so I was obviously just making an excuse.'], 'j2jmpo7': [11, '\"YOU SHOULD NOT BE ALLOWED TO BE *CLOSED* WHEN *YOUR CUSTOMERS NEED YOU*,\" madame, my company exclusively sells middle-to-high-end knives and kitchen accessories, there has never, ever been a time that a customer has actually *needed* anything.'], 'j2i38ow': [9, 'Had a woman announce she was reporting me to corporate because... we were out of the specific monogrammed stocking she wanted, and the price to ship it from another location was three times as much as the item itself. This was exclusively my fault. Clearly I, a front end supervisor, am the one who sets the third-party shipping costs. \\n\\nShe never actually made the report, but her bitching was the final straw of a bad day.'], 'j2hxl80': [7, 'I hate this time of the year, some customers are just a**holes']}\n",
      "********************\n",
      "Thanks to everyone for all of your great posts & comments over the last 10 years that have helped to make r/TalesFromRetail such a great little subreddit.  (Not so little anymore... we're almost to 2/3rds of a million subscribers!)\n",
      "\n",
      "If you have any favorite TFR memories or suggestions on how TFR could be even better, please leave a comment below and remember to tell a friend about r/TalesFromRetail!\n",
      ">>> Comments:\n",
      "\n",
      "{'hjyzgfk': [25, 'I love this sub. It makes me feel like I’m not alone.'], 'hjys6ox': [9, 'One of the best subs just to vent and take a load off. I love it. My number one contributed to sub and for good reason, it has helped me through some tough times.'], 'hjz0i6t': [6, 'Cool. Enjoying /r/retailhell more now though. This place just seems too sunny for my darkened soul.'], 'hk33fi6': [4, \"I don't work retail, but this sub has definitely made me a more understanding customer.\"], 'hlvk3q5': [5, 'Whatever happened to the guy who ran a fireworks stand who posted regularly years ago?']}\n",
      "********************\n",
      "3rd post - same location as 2nd post.     \n",
      "\n",
      "Most of what I saw was thru the camera footage what I heard was in the store at the time.     \n",
      "\n",
      "Lady 1 : L1 \n",
      "Lady 2 : L2 \n",
      "Store Manager : SM\n",
      "Me \n",
      "\n",
      "I was in aisle 3 and heard a commotion coming from aisle 2.   \n",
      "\n",
      "L1 was just doing her shopping looking at something on the shelf.     \n",
      "L2 comes storming up the aisle and throws a punch.     \n",
      "L1 staggers, drops her basket and turns on L2.    \n",
      "L1 goes crazy, grabs L2 by the shoulders and slams her multiple times into the shelf, her head slamming into each time.     \n",
      "SM comes running down the aisle to seperate them.    \n",
      "He breaks them up and tells L2 to leave whilst restraining L1.    \n",
      "L2 gets to the end of the aisle and starts to hurl abuse at L1.      \n",
      "L1 pushes SM aside and runs after her catches her in aisle 4 punches her and knocks her to the ground and then proceeds to start kicking her in the ribs.     \n",
      "SM comes running again and breaks them up for the second time.    \n",
      "This happens two more times with the SM breaking them up and then L2 hurling abuse and L1 chasing her and beating her again.    \n",
      "Finally SM manages to convince L2 to shut up and leave the store at the same time he’s restraining L1.      \n",
      "L2 gets outside and AGAIN hurls abuse thru the front doors.    \n",
      "L1 shoves the SM aside and chases her again beating her in the parking lot.     \n",
      "Whilst this is all happening front desk called the police and they arrived so the SM didn’t have to break them up again.      \n",
      "The police come inside with L1 asking for the camera footage because L1 wants to press charges for assault because L2 started the fight and attacked her without provocation !!!      \n",
      "It was seriously both hilarious and alarming at the same time. \n",
      "\n",
      "We found out a couple of days later that they were sisters-in-law !!!! \n",
      "\n",
      "I apologise if it’s confusing, I was trying for it not to be.      \n",
      "If you have any questions ask in the comments.\n",
      ">>> Comments:\n",
      "\n",
      "{'j2p2hix': [15, 'Holy cow!!'], 'j2p6sma': [10, 'Yeah, I was shocked 😳']}\n",
      "********************\n",
      "This is my second post - same company different store.       \n",
      "On Saturday night there was a really bad car accident near our store that took out a power pole and the power to the area was out for over 8 hours.     \n",
      "The generator in the small shopping centre out store was in didn’t come on.     \n",
      "The store was out of power that whole time.     \n",
      "We lost every item in the fridge or freezer, deli, dairy, meat and fresh produce, both in the store and the store room, to make matters worse we had received a dairy load and a meat load that night and weren’t due for another dairy / freezer delivery for 2 days and meat for 3 days. \n",
      "Our boss spoke to head office they managed to get us an extra delivery late on the Monday night but it was going to be limited.     \n",
      "This meant we spent all day Sunday and Monday without ANY cold food.    \n",
      "Most customers were understanding after being told what happened, we had signs but they still asked.     \n",
      "A few were not happy is putting it mildly.    \n",
      "I had one woman stand there and yell abuse at me for almost 5 minutes whilst I tried to explain there was nothing I could do.    \n",
      "She was pissed that she would have to go to another store now (5 mins away).     \n",
      "I’m standing there thinking I’d love to tell her exactly what to do with her shopping and a man came up behind me.    \n",
      "Man : ‘lady !! Do you seriously think they did this on purpose ? Do you seriously think they don’t want the sales ? Do you seriously think they want idiots like you abusing them ? Are you really that stupid ?’ \n",
      "He then turned to me and said ‘just ignore the stupid b***h, I hope the rest of your day is better’ \n",
      "Should be more customers like him 👍\n",
      ">>> Comments:\n",
      "\n",
      "{'j2mygd8': [84, \"I strive to be like that man. I jump at the opportunity to tell another customer to piss off and be respectful to the retail workers. I know they can't say so themselves, and so I am that person in their stead. No retail worker will be berated in my presence. Not ever.\"], 'j2neo8p': [34, 'Making Karens feel like dirt is one of my favorite hobbies since I was promoted to customer. There are dozens of us!\\n\\nKeep your head up, OP. Please remember that people who act like that die alone except for nurses who are chemically incapable of loving them because of compassion fatigue.'], 'j2m6d3n': [89, 'Customers like our hero would get anything I could serve (not that you had much 😁 \\n) for either free or as much of a discount as I was allowed to give.'], 'j2my91q': [13, 'Heroes appear when you least expect them :)'], 'j2nwn34': [10, \"You had a power pole down on new years too? Man that sucks, anyone who gets upset at y'all can go somewhere else, sorry you have to deal with the karens.\"]}\n",
      "********************\n",
      "When I worked at a hardware store, I occasionally had to spot for people who had to grab pallets of products with a lift. Of course when we do that we would need to close two aisles (one being where the product is, the other being the adjacent one; where in the event of something being pushed or pulled by accident when grabbing a overhead product, no one gets hurt or injured from something falling.) Obviously we don’t want customers passing or opening the gates because we want customers to be safe. Unfortunately some dinguses didn’t think that rule applies to them and thought to be untouchable.\n",
      "\n",
      "A co-worker in a forklift and I were in the tile isle helping an older couple (sweet people) get some tile and it turned out the remaining tile they needed was on the overhead. So as my cw got the lift in position I went to close the other aisle to the right (our carpeting) and see a group of six people looking at rollaway carpet. Naturally we can’t close an aisle when there are people still shopping so I ask if they needed help and let them know we were going to be closing the aisle soon. \n",
      "\n",
      "They proceed to stay in that aisle for 10 minutes…just looking at the rolled carpet (which mind you we only had 5 different kinds with varying colors and cuts on display so there wasn’t much to choose from) and talking about God knows what. The older lady needing the tile realized they were holding up the aisle and was waiting at the other end of the aisle looking at them with her arms crossed. Even though she was wearing shades I could tell she was staring daggers at them. \n",
      "\n",
      "Finally what seemed like an eternity the group leaves and I rush to get both gates closed and latched to the shelfs. My cw was bringing the pallet of tile down as I was watching the gates on the carpeting side. As I was looking at other aisles to see if anyone was looking into our flooring aisle and if I had to tell customers we will be opening it shortly, I turned to see two guys (early 20s) from the group before on the other side UNLATCH THE GATE OPPOSITE OF ME…OPEN IT…AND PROCEED TO WALK IN THE MIDDLE OF THE AISLE.\n",
      "\n",
      "I quickly called for the forklift to stop and I called out to the guys:\n",
      "“Hey! This aisle is blocked off right now! We are getting a pallet down that could push something over here!” \n",
      "\n",
      "One of the Einsteins looked at me and said:\n",
      "“We are just getting some tape.”\n",
      "\n",
      "Tape…You guys risked having a heavy pallet avalanche turn you guys to human pancakes…for FREAKING TAPE?! You couldn’t just wait two minutes max?!\n",
      "\n",
      "I stood there dumbfounded at how impatient and stupid they were. By the time I got out of it they had left and closed the gate back. I told my cw and my floor manager what happened and they were just less than amused as I was.   \n",
      "\n",
      "Moral of the story: Don’t open closed, do not pass or hazardous gates or signs. Odds are there is a good reason you’re being kept on the opposite side.\n",
      "\n",
      "TL;DR\n",
      "Impatient dummies open a closed gate at the risk of heavy hardware falling just to get floor tape\n",
      ">>> Comments:\n",
      "\n",
      "{'j2igce1': [139, 'I have literally yelled at AH for doing this.\\n\\nI think I\\'ve told this story before on reddit and maybe in another post about dumbass customers, but here is my go.\\n\\nFor context and visuals: I was on one of [these](https://www.crown.com/content/dam/crown/images/forklift-series/features/wave-order-picking.jpg). It\\'s called a WAVe and at full extension, it\\'s about 10 feet in the air. I used it to hang signing in my store on 20 foot ceilings (Sidenote: I\\'m 6\\'5\" and stuck out at least 3\\' from the top of the basket. Between the 16\" base platform and additional 12\" basket base, at full extension, I was just shy of 20\\' floor to fingertip). When I\\'m doing stuff overhead, I don\\'t look down for every random noise I hear. It\\'s not safe.\\n\\nAt least once a week, I would have some absolute fucking Dawin Award nominee position themselves under the basket or stand on the base deck to grab something I was in the way of. I had a few go so far as to ignore the loud beeping noise of the basket coming down and I almost came down on top of them. Yes, we were supposed to have spotters, but that didn\\'t always happen or they were called away.\\n\\nWhat really got me was when it was coworkers. After complaining enough about it, the store manager made safety retraining mandatory on threat of write-up on how to use and be around the vehicle. I did the training and had to sign off on it. \\n\\nI still yelled at customers though.'], 'j2hxgwb': [159, 'Smdh! I had a lady disregard the red cones and try to hit me with her cart to roll through shattered glass and spaghetti sauce. “I’m sorry ma’am but this is a safety hazard and you CANNOT come through here. You MUST go around” 🤦\\u200d♀️'], 'j2i3fpp': [57, 'Some people always think that the gates, fences, signs, everything really are only for \"other people\".'], 'j2ib18k': [45, 'And of course these are the first people to sue if something happens because of them ignoring warning signs.'], 'j2isdmo': [20, \"I guarantee if they'd gotten hurt they would've blamed the store\"]}\n",
      "********************\n"
     ]
    }
   ],
   "source": [
    "# scrape submission in a subreddit\n",
    "import praw\n",
    "\n",
    "with open(\"configs/reddit_config.toml\", mode=\"rb\") as fp:\n",
    "    config = tomli.load(fp)\n",
    "    CLIENT_ID = config['reddit_oauth']['reddit_client_id']\n",
    "    CLIENT_SECRET = config['reddit_oauth']['reddit_secret']\n",
    "    TFR_FLAIRS = config['tales_for_retail']['flairs']\n",
    "\n",
    "\n",
    "reddit = praw.Reddit(client_id=CLIENT_ID, \n",
    "                     client_secret=CLIENT_SECRET,\n",
    "                     user_agent='discussion_scraper')\n",
    "\n",
    "subreddit = reddit.subreddit('TalesFromRetail')\n",
    "comments_no_limit = 5\n",
    "for submission in subreddit.hot(limit=5):\n",
    "    print(submission.selftext)\n",
    "    print(\">>> Comments:\\n\")\n",
    "    comments = {comment.id: [comment.score, comment.body] for comment_no, comment in enumerate(submission.comments.list()) if comment_no<comments_no_limit}\n",
    "    print(comments)\n",
    "    print('*'*20)"
   ]
  },
  {
   "cell_type": "code",
   "execution_count": 4,
   "metadata": {},
   "outputs": [
    {
     "data": {
      "text/plain": [
       "1"
      ]
     },
     "execution_count": 4,
     "metadata": {},
     "output_type": "execute_result"
    }
   ],
   "source": [
    "import os\n",
    "\n",
    "os.system(\"espeak 'The quick brown fox jumped over the lazy dog.'\")"
   ]
  }
 ],
 "metadata": {
  "kernelspec": {
   "display_name": "my_env",
   "language": "python",
   "name": "python3"
  },
  "language_info": {
   "codemirror_mode": {
    "name": "ipython",
    "version": 3
   },
   "file_extension": ".py",
   "mimetype": "text/x-python",
   "name": "python",
   "nbconvert_exporter": "python",
   "pygments_lexer": "ipython3",
   "version": "3.10.4"
  },
  "orig_nbformat": 4,
  "vscode": {
   "interpreter": {
    "hash": "387518b9bb933b2acbabe9c770b01d5280faf9fe9d0f55f5f7b391bf5a387d20"
   }
  }
 },
 "nbformat": 4,
 "nbformat_minor": 2
}
