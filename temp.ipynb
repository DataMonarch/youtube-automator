{
 "cells": [
  {
   "cell_type": "code",
   "execution_count": 1,
   "metadata": {},
   "outputs": [],
   "source": [
    "import tomli\n",
    "import json"
   ]
  },
  {
   "cell_type": "code",
   "execution_count": 2,
   "metadata": {},
   "outputs": [
    {
     "ename": "FileNotFoundError",
     "evalue": "[Errno 2] No such file or directory: 'conf.toml'",
     "output_type": "error",
     "traceback": [
      "\u001b[1;31m---------------------------------------------------------------------------\u001b[0m",
      "\u001b[1;31mFileNotFoundError\u001b[0m                         Traceback (most recent call last)",
      "\u001b[1;32mc:\\Users\\togru\\python-playground\\yt_automator\\youtube-automator\\temp.ipynb Cell 2\u001b[0m in \u001b[0;36m<cell line: 1>\u001b[1;34m()\u001b[0m\n\u001b[1;32m----> <a href='vscode-notebook-cell:/c%3A/Users/togru/python-playground/yt_automator/youtube-automator/temp.ipynb#W1sZmlsZQ%3D%3D?line=0'>1</a>\u001b[0m \u001b[39mwith\u001b[39;00m \u001b[39mopen\u001b[39;49m(\u001b[39m\"\u001b[39;49m\u001b[39mconf.toml\u001b[39;49m\u001b[39m\"\u001b[39;49m, mode\u001b[39m=\u001b[39;49m\u001b[39m\"\u001b[39;49m\u001b[39mrb\u001b[39;49m\u001b[39m\"\u001b[39;49m) \u001b[39mas\u001b[39;00m fp:\n\u001b[0;32m      <a href='vscode-notebook-cell:/c%3A/Users/togru/python-playground/yt_automator/youtube-automator/temp.ipynb#W1sZmlsZQ%3D%3D?line=1'>2</a>\u001b[0m     config \u001b[39m=\u001b[39m tomli\u001b[39m.\u001b[39mload(fp)\n\u001b[0;32m      <a href='vscode-notebook-cell:/c%3A/Users/togru/python-playground/yt_automator/youtube-automator/temp.ipynb#W1sZmlsZQ%3D%3D?line=2'>3</a>\u001b[0m     \u001b[39mprint\u001b[39m(config)\n",
      "\u001b[1;31mFileNotFoundError\u001b[0m: [Errno 2] No such file or directory: 'conf.toml'"
     ]
    }
   ],
   "source": [
    "with open(\"conf.toml\", mode=\"rb\") as fp:\n",
    "    config = tomli.load(fp)\n",
    "    print(config)\n"
   ]
  },
  {
   "cell_type": "code",
   "execution_count": 1,
   "metadata": {},
   "outputs": [
    {
     "ename": "NameError",
     "evalue": "name 'tomli' is not defined",
     "output_type": "error",
     "traceback": [
      "\u001b[1;31m---------------------------------------------------------------------------\u001b[0m",
      "\u001b[1;31mNameError\u001b[0m                                 Traceback (most recent call last)",
      "\u001b[1;32mc:\\Users\\togru\\python-playground\\yt_automator\\youtube-automator\\temp.ipynb Cell 3\u001b[0m in \u001b[0;36m<cell line: 4>\u001b[1;34m()\u001b[0m\n\u001b[0;32m      <a href='vscode-notebook-cell:/c%3A/Users/togru/python-playground/yt_automator/youtube-automator/temp.ipynb#W2sZmlsZQ%3D%3D?line=1'>2</a>\u001b[0m \u001b[39mimport\u001b[39;00m \u001b[39mpraw\u001b[39;00m\n\u001b[0;32m      <a href='vscode-notebook-cell:/c%3A/Users/togru/python-playground/yt_automator/youtube-automator/temp.ipynb#W2sZmlsZQ%3D%3D?line=3'>4</a>\u001b[0m \u001b[39mwith\u001b[39;00m \u001b[39mopen\u001b[39m(\u001b[39m\"\u001b[39m\u001b[39mconfigs/reddit_config.toml\u001b[39m\u001b[39m\"\u001b[39m, mode\u001b[39m=\u001b[39m\u001b[39m\"\u001b[39m\u001b[39mrb\u001b[39m\u001b[39m\"\u001b[39m) \u001b[39mas\u001b[39;00m fp:\n\u001b[1;32m----> <a href='vscode-notebook-cell:/c%3A/Users/togru/python-playground/yt_automator/youtube-automator/temp.ipynb#W2sZmlsZQ%3D%3D?line=4'>5</a>\u001b[0m     config \u001b[39m=\u001b[39m tomli\u001b[39m.\u001b[39mload(fp)\n\u001b[0;32m      <a href='vscode-notebook-cell:/c%3A/Users/togru/python-playground/yt_automator/youtube-automator/temp.ipynb#W2sZmlsZQ%3D%3D?line=5'>6</a>\u001b[0m     CLIENT_ID \u001b[39m=\u001b[39m config[\u001b[39m'\u001b[39m\u001b[39mreddit_oauth\u001b[39m\u001b[39m'\u001b[39m][\u001b[39m'\u001b[39m\u001b[39mreddit_client_id\u001b[39m\u001b[39m'\u001b[39m]\n\u001b[0;32m      <a href='vscode-notebook-cell:/c%3A/Users/togru/python-playground/yt_automator/youtube-automator/temp.ipynb#W2sZmlsZQ%3D%3D?line=6'>7</a>\u001b[0m     CLIENT_SECRET \u001b[39m=\u001b[39m config[\u001b[39m'\u001b[39m\u001b[39mreddit_oauth\u001b[39m\u001b[39m'\u001b[39m][\u001b[39m'\u001b[39m\u001b[39mreddit_secret\u001b[39m\u001b[39m'\u001b[39m]\n",
      "\u001b[1;31mNameError\u001b[0m: name 'tomli' is not defined"
     ]
    }
   ],
   "source": [
    "# scrape submission in a subreddit\n",
    "import praw\n",
    "\n",
    "with open(\"configs/reddit_config.toml\", mode=\"rb\") as fp:\n",
    "    config = tomli.load(fp)\n",
    "    CLIENT_ID = config['reddit_oauth']['reddit_client_id']\n",
    "    CLIENT_SECRET = config['reddit_oauth']['reddit_secret']\n",
    "    TFR_FLAIRS = config['tales_for_retail']['flairs']\n",
    "\n",
    "\n",
    "reddit = praw.Reddit(client_id=CLIENT_ID, \n",
    "                     client_secret=CLIENT_SECRET,\n",
    "                     user_agent='discussion_scraper')\n",
    "\n",
    "subreddit = reddit.subreddit('TalesFromRetail')\n",
    "comments_no_limit = 5\n",
    "for submission in subreddit.hot(limit=5):\n",
    "    print(submission.selftext)\n",
    "    print(\">>> Comments:\\n\")\n",
    "    comments = {comment.id: [comment.score, comment.body] for comment_no, comment in enumerate(submission.comments.list()) if comment_no<comments_no_limit}\n",
    "    print(comments)\n",
    "    print('*'*20)"
   ]
  },
  {
   "cell_type": "code",
   "execution_count": 3,
   "metadata": {},
   "outputs": [],
   "source": [
    "import librosa\n",
    "from scipy.io import wavfile\n"
   ]
  },
  {
   "cell_type": "code",
   "execution_count": 6,
   "metadata": {},
   "outputs": [
    {
     "name": "stderr",
     "output_type": "stream",
     "text": [
      "C:\\Users\\togru\\AppData\\Local\\Temp\\ipykernel_21832\\1834360557.py:4: FutureWarning: Pass rate=1.5 as keyword args. From version 0.10 passing these as positional arguments will result in an error\n",
      "  song_2_times_faster = librosa.effects.time_stretch(song, 1.5)\n"
     ]
    }
   ],
   "source": [
    "wav_path = \"C:/Users/togru/python-playground/yt_automator/data/speech.wav\"\n",
    "song, fs = librosa.load(wav_path)\n",
    "\n",
    "song_2_times_faster = librosa.effects.time_stretch(song, 1.5)\n",
    "\n",
    "wavfile.write(\"song_2_times_faster.wav\", fs, song_2_times_faster)"
   ]
  },
  {
   "cell_type": "code",
   "execution_count": 1,
   "metadata": {},
   "outputs": [],
   "source": [
    "import os"
   ]
  },
  {
   "cell_type": "code",
   "execution_count": 2,
   "metadata": {},
   "outputs": [
    {
     "data": {
      "text/plain": [
       "'c:\\\\Users\\\\togru\\\\python-playground\\\\yt_automator\\\\data'"
      ]
     },
     "execution_count": 2,
     "metadata": {},
     "output_type": "execute_result"
    }
   ],
   "source": [
    "os.path.abspath(\"../data/\")"
   ]
  },
  {
   "cell_type": "code",
   "execution_count": 2,
   "metadata": {},
   "outputs": [],
   "source": [
    "from pytube import YouTube, Search, extract, query\n",
    "import random\n",
    "import argparse\n",
    "import os\n",
    "\n",
    "def get_yt_object(url: str = None, yt_object: YouTube = None, save_path: str = '../data/videos'):\n",
    "    \n",
    "    # documentation for the Download method\n",
    "    \"\"\"\n",
    "    Download a video from a given URL.\n",
    "    Parameters\n",
    "    ----------\n",
    "    url: str\n",
    "        URL of the video to be downloaded.\n",
    "    save_path: str \n",
    "        Path to save the downloaded video.\n",
    "        \n",
    "    Returns\n",
    "    -------\n",
    "    None\n",
    "    \"\"\"\n",
    "    if yt_object:\n",
    "        yt = yt_object\n",
    "        video_id = random.randint(1, 100000)\n",
    "        return yt\n",
    "    elif url:\n",
    "        yt = YouTube(url)\n",
    "        video_id = extract.video_id(url)\n",
    "        return yt\n",
    "    else:\n",
    "        print('No URL or YouTube object provided.')\n",
    "        return None\n",
    "        \n",
    "   "
   ]
  },
  {
   "cell_type": "code",
   "execution_count": 38,
   "metadata": {},
   "outputs": [],
   "source": [
    "def get_srt_captions(yt_object):\n",
    "    captions = yt_object.captions\n",
    "    captions_query = query.CaptionQuery(captions=captions)\n",
    "    \n",
    "    # TO-DO: pull captions as well\n",
    "    video_captions = None\n",
    "    print(captions_query.values())\n",
    "    # print(list(captions_query.keys()))\n",
    "    \n",
    "    lang_codes = ['en', 'a.en', 'en-GB']\n",
    "    \n",
    "    for key in lang_codes:\n",
    "        try:\n",
    "            caption = yt_object.captions[key]\n",
    "            video_captions = caption.generate_srt_captions()\n",
    "        except KeyError:\n",
    "            print(f\"No captions found for language code: {key}\")\n",
    "    return video_captions"
   ]
  },
  {
   "cell_type": "code",
   "execution_count": 39,
   "metadata": {},
   "outputs": [
    {
     "name": "stdout",
     "output_type": "stream",
     "text": [
      "ValuesView({'ar': <Caption lang=\"Arabic\" code=\"ar\">, 'az': <Caption lang=\"Azerbaijani\" code=\"az\">, 'bg': <Caption lang=\"Bulgarian\" code=\"bg\">, 'zh': <Caption lang=\"Chinese\" code=\"zh\">, 'zh-CN': <Caption lang=\"Chinese (China)\" code=\"zh-CN\">, 'zh-SG': <Caption lang=\"Chinese (Singapore)\" code=\"zh-SG\">, 'zh-Hant': <Caption lang=\"Chinese (Traditional)\" code=\"zh-Hant\">, 'zh-TW': <Caption lang=\"Chinese (Taiwan)\" code=\"zh-TW\">, 'hr': <Caption lang=\"Croatian\" code=\"hr\">, 'cs': <Caption lang=\"Czech\" code=\"cs\">, 'da': <Caption lang=\"Danish\" code=\"da\">, 'nl': <Caption lang=\"Dutch\" code=\"nl\">, 'en': <Caption lang=\"English\" code=\"en\">, 'a.en': <Caption lang=\"English (auto-generated)\" code=\"a.en\">, 'en-GB': <Caption lang=\"English (United Kingdom)\" code=\"en-GB\">, 'et': <Caption lang=\"Estonian\" code=\"et\">, 'fi': <Caption lang=\"Finnish\" code=\"fi\">, 'fr': <Caption lang=\"French\" code=\"fr\">, 'fr-CA': <Caption lang=\"French (Canada)\" code=\"fr-CA\">, 'de': <Caption lang=\"German\" code=\"de\">, 'el': <Caption lang=\"Greek\" code=\"el\">, 'iw': <Caption lang=\"Hebrew\" code=\"iw\">, 'hu': <Caption lang=\"Hungarian\" code=\"hu\">, 'id': <Caption lang=\"Indonesian\" code=\"id\">, 'it': <Caption lang=\"Italian\" code=\"it\">, 'ja': <Caption lang=\"Japanese\" code=\"ja\">, 'ko': <Caption lang=\"Korean\" code=\"ko\">, 'mk': <Caption lang=\"Macedonian\" code=\"mk\">, 'ms': <Caption lang=\"Malay\" code=\"ms\">, 'no': <Caption lang=\"Norwegian\" code=\"no\">, 'fa': <Caption lang=\"Persian\" code=\"fa\">, 'pl': <Caption lang=\"Polish\" code=\"pl\">, 'pt': <Caption lang=\"Portuguese\" code=\"pt\">, 'pt-BR': <Caption lang=\"Portuguese (Brazil)\" code=\"pt-BR\">, 'ro': <Caption lang=\"Romanian\" code=\"ro\">, 'ru': <Caption lang=\"Russian\" code=\"ru\">, 'sr': <Caption lang=\"Serbian\" code=\"sr\">, 'sk': <Caption lang=\"Slovak\" code=\"sk\">, 'es': <Caption lang=\"Spanish\" code=\"es\">, 'es-419': <Caption lang=\"Spanish (Latin America)\" code=\"es-419\">, 'es-MX': <Caption lang=\"Spanish (Mexico)\" code=\"es-MX\">, 'sv': <Caption lang=\"Swedish\" code=\"sv\">, 'ta': <Caption lang=\"Tamil\" code=\"ta\">, 'th': <Caption lang=\"Thai\" code=\"th\">, 'tr': <Caption lang=\"Turkish\" code=\"tr\">, 'vi': <Caption lang=\"Vietnamese\" code=\"vi\">})\n",
      "No captions found for language code: en\n",
      "No captions found for language code: a.en\n",
      "No captions found for language code: en-GB\n",
      "No captions found for language code: da\n"
     ]
    }
   ],
   "source": [
    "yt_object = get_yt_object(\"https://www.youtube.com/watch?v=NxvQPzrg2Wg\")\n",
    "captions = get_srt_captions(yt_object)"
   ]
  },
  {
   "cell_type": "code",
   "execution_count": null,
   "metadata": {},
   "outputs": [],
   "source": []
  }
 ],
 "metadata": {
  "kernelspec": {
   "display_name": "my_env",
   "language": "python",
   "name": "python3"
  },
  "language_info": {
   "codemirror_mode": {
    "name": "ipython",
    "version": 3
   },
   "file_extension": ".py",
   "mimetype": "text/x-python",
   "name": "python",
   "nbconvert_exporter": "python",
   "pygments_lexer": "ipython3",
   "version": "3.10.4"
  },
  "orig_nbformat": 4,
  "vscode": {
   "interpreter": {
    "hash": "387518b9bb933b2acbabe9c770b01d5280faf9fe9d0f55f5f7b391bf5a387d20"
   }
  }
 },
 "nbformat": 4,
 "nbformat_minor": 2
}
