{
 "cells": [
  {
   "cell_type": "code",
   "execution_count": 1,
   "metadata": {},
   "outputs": [],
   "source": [
    "import tomli\n",
    "import json"
   ]
  },
  {
   "cell_type": "code",
   "execution_count": 2,
   "metadata": {},
   "outputs": [
    {
     "ename": "FileNotFoundError",
     "evalue": "[Errno 2] No such file or directory: 'conf.toml'",
     "output_type": "error",
     "traceback": [
      "\u001b[1;31m---------------------------------------------------------------------------\u001b[0m",
      "\u001b[1;31mFileNotFoundError\u001b[0m                         Traceback (most recent call last)",
      "\u001b[1;32mc:\\Users\\togru\\python-playground\\yt_automator\\youtube-automator\\temp.ipynb Cell 2\u001b[0m in \u001b[0;36m<cell line: 1>\u001b[1;34m()\u001b[0m\n\u001b[1;32m----> <a href='vscode-notebook-cell:/c%3A/Users/togru/python-playground/yt_automator/youtube-automator/temp.ipynb#W1sZmlsZQ%3D%3D?line=0'>1</a>\u001b[0m \u001b[39mwith\u001b[39;00m \u001b[39mopen\u001b[39;49m(\u001b[39m\"\u001b[39;49m\u001b[39mconf.toml\u001b[39;49m\u001b[39m\"\u001b[39;49m, mode\u001b[39m=\u001b[39;49m\u001b[39m\"\u001b[39;49m\u001b[39mrb\u001b[39;49m\u001b[39m\"\u001b[39;49m) \u001b[39mas\u001b[39;00m fp:\n\u001b[0;32m      <a href='vscode-notebook-cell:/c%3A/Users/togru/python-playground/yt_automator/youtube-automator/temp.ipynb#W1sZmlsZQ%3D%3D?line=1'>2</a>\u001b[0m     config \u001b[39m=\u001b[39m tomli\u001b[39m.\u001b[39mload(fp)\n\u001b[0;32m      <a href='vscode-notebook-cell:/c%3A/Users/togru/python-playground/yt_automator/youtube-automator/temp.ipynb#W1sZmlsZQ%3D%3D?line=2'>3</a>\u001b[0m     \u001b[39mprint\u001b[39m(config)\n",
      "\u001b[1;31mFileNotFoundError\u001b[0m: [Errno 2] No such file or directory: 'conf.toml'"
     ]
    }
   ],
   "source": [
    "with open(\"conf.toml\", mode=\"rb\") as fp:\n",
    "    config = tomli.load(fp)\n",
    "    print(config)\n"
   ]
  },
  {
   "cell_type": "code",
   "execution_count": 1,
   "metadata": {},
   "outputs": [
    {
     "ename": "NameError",
     "evalue": "name 'tomli' is not defined",
     "output_type": "error",
     "traceback": [
      "\u001b[1;31m---------------------------------------------------------------------------\u001b[0m",
      "\u001b[1;31mNameError\u001b[0m                                 Traceback (most recent call last)",
      "\u001b[1;32mc:\\Users\\togru\\python-playground\\yt_automator\\youtube-automator\\temp.ipynb Cell 3\u001b[0m in \u001b[0;36m<cell line: 4>\u001b[1;34m()\u001b[0m\n\u001b[0;32m      <a href='vscode-notebook-cell:/c%3A/Users/togru/python-playground/yt_automator/youtube-automator/temp.ipynb#W2sZmlsZQ%3D%3D?line=1'>2</a>\u001b[0m \u001b[39mimport\u001b[39;00m \u001b[39mpraw\u001b[39;00m\n\u001b[0;32m      <a href='vscode-notebook-cell:/c%3A/Users/togru/python-playground/yt_automator/youtube-automator/temp.ipynb#W2sZmlsZQ%3D%3D?line=3'>4</a>\u001b[0m \u001b[39mwith\u001b[39;00m \u001b[39mopen\u001b[39m(\u001b[39m\"\u001b[39m\u001b[39mconfigs/reddit_config.toml\u001b[39m\u001b[39m\"\u001b[39m, mode\u001b[39m=\u001b[39m\u001b[39m\"\u001b[39m\u001b[39mrb\u001b[39m\u001b[39m\"\u001b[39m) \u001b[39mas\u001b[39;00m fp:\n\u001b[1;32m----> <a href='vscode-notebook-cell:/c%3A/Users/togru/python-playground/yt_automator/youtube-automator/temp.ipynb#W2sZmlsZQ%3D%3D?line=4'>5</a>\u001b[0m     config \u001b[39m=\u001b[39m tomli\u001b[39m.\u001b[39mload(fp)\n\u001b[0;32m      <a href='vscode-notebook-cell:/c%3A/Users/togru/python-playground/yt_automator/youtube-automator/temp.ipynb#W2sZmlsZQ%3D%3D?line=5'>6</a>\u001b[0m     CLIENT_ID \u001b[39m=\u001b[39m config[\u001b[39m'\u001b[39m\u001b[39mreddit_oauth\u001b[39m\u001b[39m'\u001b[39m][\u001b[39m'\u001b[39m\u001b[39mreddit_client_id\u001b[39m\u001b[39m'\u001b[39m]\n\u001b[0;32m      <a href='vscode-notebook-cell:/c%3A/Users/togru/python-playground/yt_automator/youtube-automator/temp.ipynb#W2sZmlsZQ%3D%3D?line=6'>7</a>\u001b[0m     CLIENT_SECRET \u001b[39m=\u001b[39m config[\u001b[39m'\u001b[39m\u001b[39mreddit_oauth\u001b[39m\u001b[39m'\u001b[39m][\u001b[39m'\u001b[39m\u001b[39mreddit_secret\u001b[39m\u001b[39m'\u001b[39m]\n",
      "\u001b[1;31mNameError\u001b[0m: name 'tomli' is not defined"
     ]
    }
   ],
   "source": [
    "# scrape submission in a subreddit\n",
    "import praw\n",
    "\n",
    "with open(\"configs/reddit_config.toml\", mode=\"rb\") as fp:\n",
    "    config = tomli.load(fp)\n",
    "    CLIENT_ID = config['reddit_oauth']['reddit_client_id']\n",
    "    CLIENT_SECRET = config['reddit_oauth']['reddit_secret']\n",
    "    TFR_FLAIRS = config['tales_for_retail']['flairs']\n",
    "\n",
    "\n",
    "reddit = praw.Reddit(client_id=CLIENT_ID, \n",
    "                     client_secret=CLIENT_SECRET,\n",
    "                     user_agent='discussion_scraper')\n",
    "\n",
    "subreddit = reddit.subreddit('TalesFromRetail')\n",
    "comments_no_limit = 5\n",
    "for submission in subreddit.hot(limit=5):\n",
    "    print(submission.selftext)\n",
    "    print(\">>> Comments:\\n\")\n",
    "    comments = {comment.id: [comment.score, comment.body] for comment_no, comment in enumerate(submission.comments.list()) if comment_no<comments_no_limit}\n",
    "    print(comments)\n",
    "    print('*'*20)"
   ]
  },
  {
   "cell_type": "code",
   "execution_count": 3,
   "metadata": {},
   "outputs": [],
   "source": [
    "import librosa\n",
    "from scipy.io import wavfile\n"
   ]
  },
  {
   "cell_type": "code",
   "execution_count": 5,
   "metadata": {},
   "outputs": [
    {
     "name": "stderr",
     "output_type": "stream",
     "text": [
      "C:\\Users\\togru\\AppData\\Local\\Temp\\ipykernel_21832\\1834360557.py:4: FutureWarning: Pass rate=1.5 as keyword args. From version 0.10 passing these as positional arguments will result in an error\n",
      "  song_2_times_faster = librosa.effects.time_stretch(song, 1.5)\n"
     ]
    }
   ],
   "source": [
    "wav_path = \"C:/Users/togru/python-playground/yt_automator/data/speech.wav\"\n",
    "song, fs = librosa.load(wav_path)\n",
    "\n",
    "song_2_times_faster = librosa.effects.time_stretch(song, 1.5)\n",
    "\n",
    "wavfile.write(\"song_2_times_faster.wav\", fs, song_2_times_faster)"
   ]
  }
 ],
 "metadata": {
  "kernelspec": {
   "display_name": "my_env",
   "language": "python",
   "name": "python3"
  },
  "language_info": {
   "codemirror_mode": {
    "name": "ipython",
    "version": 3
   },
   "file_extension": ".py",
   "mimetype": "text/x-python",
   "name": "python",
   "nbconvert_exporter": "python",
   "pygments_lexer": "ipython3",
   "version": "3.10.4"
  },
  "orig_nbformat": 4,
  "vscode": {
   "interpreter": {
    "hash": "387518b9bb933b2acbabe9c770b01d5280faf9fe9d0f55f5f7b391bf5a387d20"
   }
  }
 },
 "nbformat": 4,
 "nbformat_minor": 2
}
