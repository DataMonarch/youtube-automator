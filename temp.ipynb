{
 "cells": [
  {
   "cell_type": "code",
   "execution_count": 2,
   "metadata": {},
   "outputs": [],
   "source": [
    "import tomli"
   ]
  },
  {
   "cell_type": "code",
   "execution_count": 5,
   "metadata": {},
   "outputs": [
    {
     "name": "stdout",
     "output_type": "stream",
     "text": [
      "{'reddit_oauth': {'reddit_client_id': 'kblNpw3CIu3XidD6iYdtrw', 'reddit_secret': '2Vqmx6bpXG8AGwb2OJahRzD8jfFA-Q'}}\n"
     ]
    }
   ],
   "source": [
    "with open(\"conf.toml\", mode=\"rb\") as fp:\n",
    "    config = tomli.load(fp)\n",
    "    print(config)\n"
   ]
  }
 ],
 "metadata": {
  "kernelspec": {
   "display_name": "my_env",
   "language": "python",
   "name": "python3"
  },
  "language_info": {
   "codemirror_mode": {
    "name": "ipython",
    "version": 3
   },
   "file_extension": ".py",
   "mimetype": "text/x-python",
   "name": "python",
   "nbconvert_exporter": "python",
   "pygments_lexer": "ipython3",
   "version": "3.10.4"
  },
  "orig_nbformat": 4,
  "vscode": {
   "interpreter": {
    "hash": "387518b9bb933b2acbabe9c770b01d5280faf9fe9d0f55f5f7b391bf5a387d20"
   }
  }
 },
 "nbformat": 4,
 "nbformat_minor": 2
}
