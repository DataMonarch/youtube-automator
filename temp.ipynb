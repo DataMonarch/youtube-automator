{
 "cells": [
  {
   "cell_type": "code",
   "execution_count": 2,
   "metadata": {},
   "outputs": [],
   "source": [
    "import tomli\n",
    "import json"
   ]
  },
  {
   "cell_type": "code",
   "execution_count": 4,
   "metadata": {},
   "outputs": [
    {
     "name": "stdout",
     "output_type": "stream",
     "text": [
      "{'reddit_oauth': {'reddit_client_id': 'kblNpw3CIu3XidD6iYdtrw', 'reddit_secret': '2Vqmx6bpXG8AGwb2OJahRzD8jfFA-Q'}, 'talesforretail': {'flairs': ['medium', 'long']}, 'talesfromtechsupport': {'flairs': ['medium', 'short']}}\n"
     ]
    }
   ],
   "source": [
    "with open(\"configs/reddit_config.toml\", mode=\"rb\") as fp:\n",
    "    config = tomli.load(fp)\n",
    "    print(config)\n"
   ]
  },
  {
   "cell_type": "code",
   "execution_count": 1,
   "metadata": {},
   "outputs": [
    {
     "ename": "NameError",
     "evalue": "name 'tomli' is not defined",
     "output_type": "error",
     "traceback": [
      "\u001b[1;31m---------------------------------------------------------------------------\u001b[0m",
      "\u001b[1;31mNameError\u001b[0m                                 Traceback (most recent call last)",
      "\u001b[1;32mc:\\Users\\togru\\python-playground\\yt_automator\\youtube-automator\\temp.ipynb Cell 3\u001b[0m in \u001b[0;36m<cell line: 4>\u001b[1;34m()\u001b[0m\n\u001b[0;32m      <a href='vscode-notebook-cell:/c%3A/Users/togru/python-playground/yt_automator/youtube-automator/temp.ipynb#W2sZmlsZQ%3D%3D?line=1'>2</a>\u001b[0m \u001b[39mimport\u001b[39;00m \u001b[39mpraw\u001b[39;00m\n\u001b[0;32m      <a href='vscode-notebook-cell:/c%3A/Users/togru/python-playground/yt_automator/youtube-automator/temp.ipynb#W2sZmlsZQ%3D%3D?line=3'>4</a>\u001b[0m \u001b[39mwith\u001b[39;00m \u001b[39mopen\u001b[39m(\u001b[39m\"\u001b[39m\u001b[39mconfigs/reddit_config.toml\u001b[39m\u001b[39m\"\u001b[39m, mode\u001b[39m=\u001b[39m\u001b[39m\"\u001b[39m\u001b[39mrb\u001b[39m\u001b[39m\"\u001b[39m) \u001b[39mas\u001b[39;00m fp:\n\u001b[1;32m----> <a href='vscode-notebook-cell:/c%3A/Users/togru/python-playground/yt_automator/youtube-automator/temp.ipynb#W2sZmlsZQ%3D%3D?line=4'>5</a>\u001b[0m     config \u001b[39m=\u001b[39m tomli\u001b[39m.\u001b[39mload(fp)\n\u001b[0;32m      <a href='vscode-notebook-cell:/c%3A/Users/togru/python-playground/yt_automator/youtube-automator/temp.ipynb#W2sZmlsZQ%3D%3D?line=5'>6</a>\u001b[0m     CLIENT_ID \u001b[39m=\u001b[39m config[\u001b[39m'\u001b[39m\u001b[39mreddit_oauth\u001b[39m\u001b[39m'\u001b[39m][\u001b[39m'\u001b[39m\u001b[39mreddit_client_id\u001b[39m\u001b[39m'\u001b[39m]\n\u001b[0;32m      <a href='vscode-notebook-cell:/c%3A/Users/togru/python-playground/yt_automator/youtube-automator/temp.ipynb#W2sZmlsZQ%3D%3D?line=6'>7</a>\u001b[0m     CLIENT_SECRET \u001b[39m=\u001b[39m config[\u001b[39m'\u001b[39m\u001b[39mreddit_oauth\u001b[39m\u001b[39m'\u001b[39m][\u001b[39m'\u001b[39m\u001b[39mreddit_secret\u001b[39m\u001b[39m'\u001b[39m]\n",
      "\u001b[1;31mNameError\u001b[0m: name 'tomli' is not defined"
     ]
    }
   ],
   "source": [
    "# scrape submission in a subreddit\n",
    "import praw\n",
    "\n",
    "with open(\"configs/reddit_config.toml\", mode=\"rb\") as fp:\n",
    "    config = tomli.load(fp)\n",
    "    CLIENT_ID = config['reddit_oauth']['reddit_client_id']\n",
    "    CLIENT_SECRET = config['reddit_oauth']['reddit_secret']\n",
    "    TFR_FLAIRS = config['tales_for_retail']['flairs']\n",
    "\n",
    "\n",
    "reddit = praw.Reddit(client_id=CLIENT_ID, \n",
    "                     client_secret=CLIENT_SECRET,\n",
    "                     user_agent='discussion_scraper')\n",
    "\n",
    "subreddit = reddit.subreddit('TalesFromRetail')\n",
    "comments_no_limit = 5\n",
    "for submission in subreddit.hot(limit=5):\n",
    "    print(submission.selftext)\n",
    "    print(\">>> Comments:\\n\")\n",
    "    comments = {comment.id: [comment.score, comment.body] for comment_no, comment in enumerate(submission.comments.list()) if comment_no<comments_no_limit}\n",
    "    print(comments)\n",
    "    print('*'*20)"
   ]
  },
  {
   "cell_type": "code",
   "execution_count": 3,
   "metadata": {},
   "outputs": [],
   "source": [
    "import librosa\n",
    "from scipy.io import wavfile\n"
   ]
  },
  {
   "cell_type": "code",
   "execution_count": 6,
   "metadata": {},
   "outputs": [
    {
     "name": "stderr",
     "output_type": "stream",
     "text": [
      "C:\\Users\\togru\\AppData\\Local\\Temp\\ipykernel_21832\\1834360557.py:4: FutureWarning: Pass rate=1.5 as keyword args. From version 0.10 passing these as positional arguments will result in an error\n",
      "  song_2_times_faster = librosa.effects.time_stretch(song, 1.5)\n"
     ]
    }
   ],
   "source": [
    "wav_path = \"C:/Users/togru/python-playground/yt_automator/data/speech.wav\"\n",
    "song, fs = librosa.load(wav_path)\n",
    "\n",
    "song_2_times_faster = librosa.effects.time_stretch(song, 1.5)\n",
    "\n",
    "wavfile.write(\"song_2_times_faster.wav\", fs, song_2_times_faster)"
   ]
  },
  {
   "cell_type": "code",
   "execution_count": 1,
   "metadata": {},
   "outputs": [],
   "source": [
    "import os"
   ]
  },
  {
   "cell_type": "code",
   "execution_count": 2,
   "metadata": {},
   "outputs": [
    {
     "data": {
      "text/plain": [
       "'c:\\\\Users\\\\togru\\\\python-playground\\\\yt_automator\\\\data'"
      ]
     },
     "execution_count": 2,
     "metadata": {},
     "output_type": "execute_result"
    }
   ],
   "source": [
    "os.path.abspath(\"../data/\")"
   ]
  },
  {
   "cell_type": "code",
   "execution_count": 2,
   "metadata": {},
   "outputs": [],
   "source": [
    "from pytube import YouTube, Search, extract, query\n",
    "import random\n",
    "import argparse\n",
    "import os\n",
    "\n",
    "def get_yt_object(url: str = None, yt_object: YouTube = None, save_path: str = '../data/videos'):\n",
    "    \n",
    "    # documentation for the Download method\n",
    "    \"\"\"\n",
    "    Download a video from a given URL.\n",
    "    Parameters\n",
    "    ----------\n",
    "    url: str\n",
    "        URL of the video to be downloaded.\n",
    "    save_path: str \n",
    "        Path to save the downloaded video.\n",
    "        \n",
    "    Returns\n",
    "    -------\n",
    "    None\n",
    "    \"\"\"\n",
    "    if yt_object:\n",
    "        yt = yt_object\n",
    "        video_id = random.randint(1, 100000)\n",
    "        return yt\n",
    "    elif url:\n",
    "        yt = YouTube(url)\n",
    "        video_id = extract.video_id(url)\n",
    "        return yt\n",
    "    else:\n",
    "        print('No URL or YouTube object provided.')\n",
    "        return None\n",
    "        \n",
    "   "
   ]
  },
  {
   "cell_type": "code",
   "execution_count": 38,
   "metadata": {},
   "outputs": [],
   "source": [
    "def get_srt_captions(yt_object):\n",
    "    captions = yt_object.captions\n",
    "    captions_query = query.CaptionQuery(captions=captions)\n",
    "    \n",
    "    # TO-DO: pull captions as well\n",
    "    video_captions = None\n",
    "    print(captions_query.values())\n",
    "    # print(list(captions_query.keys()))\n",
    "    \n",
    "    lang_codes = ['en', 'a.en', 'en-US', 'en-GB']\n",
    "    \n",
    "    for key in lang_codes:\n",
    "        try:\n",
    "            caption = yt_object.captions[key]\n",
    "            video_captions = caption.generate_srt_captions()\n",
    "        except KeyError:\n",
    "            print(f\"No captions found for language code: {key}\")\n",
    "    return video_captions"
   ]
  },
  {
   "cell_type": "code",
   "execution_count": 39,
   "metadata": {},
   "outputs": [
    {
     "name": "stdout",
     "output_type": "stream",
     "text": [
      "ValuesView({'ar': <Caption lang=\"Arabic\" code=\"ar\">, 'az': <Caption lang=\"Azerbaijani\" code=\"az\">, 'bg': <Caption lang=\"Bulgarian\" code=\"bg\">, 'zh': <Caption lang=\"Chinese\" code=\"zh\">, 'zh-CN': <Caption lang=\"Chinese (China)\" code=\"zh-CN\">, 'zh-SG': <Caption lang=\"Chinese (Singapore)\" code=\"zh-SG\">, 'zh-Hant': <Caption lang=\"Chinese (Traditional)\" code=\"zh-Hant\">, 'zh-TW': <Caption lang=\"Chinese (Taiwan)\" code=\"zh-TW\">, 'hr': <Caption lang=\"Croatian\" code=\"hr\">, 'cs': <Caption lang=\"Czech\" code=\"cs\">, 'da': <Caption lang=\"Danish\" code=\"da\">, 'nl': <Caption lang=\"Dutch\" code=\"nl\">, 'en': <Caption lang=\"English\" code=\"en\">, 'a.en': <Caption lang=\"English (auto-generated)\" code=\"a.en\">, 'en-GB': <Caption lang=\"English (United Kingdom)\" code=\"en-GB\">, 'et': <Caption lang=\"Estonian\" code=\"et\">, 'fi': <Caption lang=\"Finnish\" code=\"fi\">, 'fr': <Caption lang=\"French\" code=\"fr\">, 'fr-CA': <Caption lang=\"French (Canada)\" code=\"fr-CA\">, 'de': <Caption lang=\"German\" code=\"de\">, 'el': <Caption lang=\"Greek\" code=\"el\">, 'iw': <Caption lang=\"Hebrew\" code=\"iw\">, 'hu': <Caption lang=\"Hungarian\" code=\"hu\">, 'id': <Caption lang=\"Indonesian\" code=\"id\">, 'it': <Caption lang=\"Italian\" code=\"it\">, 'ja': <Caption lang=\"Japanese\" code=\"ja\">, 'ko': <Caption lang=\"Korean\" code=\"ko\">, 'mk': <Caption lang=\"Macedonian\" code=\"mk\">, 'ms': <Caption lang=\"Malay\" code=\"ms\">, 'no': <Caption lang=\"Norwegian\" code=\"no\">, 'fa': <Caption lang=\"Persian\" code=\"fa\">, 'pl': <Caption lang=\"Polish\" code=\"pl\">, 'pt': <Caption lang=\"Portuguese\" code=\"pt\">, 'pt-BR': <Caption lang=\"Portuguese (Brazil)\" code=\"pt-BR\">, 'ro': <Caption lang=\"Romanian\" code=\"ro\">, 'ru': <Caption lang=\"Russian\" code=\"ru\">, 'sr': <Caption lang=\"Serbian\" code=\"sr\">, 'sk': <Caption lang=\"Slovak\" code=\"sk\">, 'es': <Caption lang=\"Spanish\" code=\"es\">, 'es-419': <Caption lang=\"Spanish (Latin America)\" code=\"es-419\">, 'es-MX': <Caption lang=\"Spanish (Mexico)\" code=\"es-MX\">, 'sv': <Caption lang=\"Swedish\" code=\"sv\">, 'ta': <Caption lang=\"Tamil\" code=\"ta\">, 'th': <Caption lang=\"Thai\" code=\"th\">, 'tr': <Caption lang=\"Turkish\" code=\"tr\">, 'vi': <Caption lang=\"Vietnamese\" code=\"vi\">})\n",
      "No captions found for language code: en\n",
      "No captions found for language code: a.en\n",
      "No captions found for language code: en-GB\n",
      "No captions found for language code: da\n"
     ]
    }
   ],
   "source": [
    "yt_object = get_yt_object(\"https://www.youtube.com/watch?v=NxvQPzrg2Wg\")\n",
    "captions = get_srt_captions(yt_object)"
   ]
  },
  {
   "cell_type": "code",
   "execution_count": 8,
   "metadata": {},
   "outputs": [
    {
     "ename": "NoTranscriptFound",
     "evalue": "\nCould not retrieve a transcript for the video https://www.youtube.com/watch?v=ec5m6t77eYM! This is most likely caused by:\n\nNo transcripts were found for any of the requested language codes: en\n\nFor this video (ec5m6t77eYM) transcripts are available in the following languages:\n\n(MANUALLY CREATED)\n - en-US (\"ingilis (Amerika Birləşmiş Ştatları)\")[TRANSLATABLE]\n\n(GENERATED)\n - en (\"ingilis (avtomatik yaradılmış)\")[TRANSLATABLE]\n\n(TRANSLATION LANGUAGES)\n - af (\"Afrikaans\")\n - ak (\"Akan\")\n - sq (\"Alban\")\n - de (\"Alman\")\n - am (\"Amhar\")\n - as (\"Assam\")\n - ay (\"Aymara\")\n - az (\"Azərbaycan\")\n - eu (\"Bask\")\n - be (\"Belarus\")\n - bn (\"Benqal\")\n - bho (\"Bxoçpuri\")\n - my (\"Birman\")\n - bg (\"Bolqar\")\n - bs (\"Bosniya\")\n - cs (\"Çex\")\n - zh-Hant (\"Çin (Ənənəvi)\")\n - zh-Hans (\"Çin (Sadələşmiş)\")\n - da (\"Danimarka\")\n - hy (\"Erməni\")\n - eo (\"Esperanto\")\n - et (\"Eston\")\n - ee (\"Eve\")\n - ar (\"Ərəb\")\n - fa (\"Fars\")\n - fil (\"Filippin\")\n - fi (\"Fin\")\n - fr (\"Fransız\")\n - ka (\"Gürcü\")\n - ht (\"Haiti Kreol\")\n - ha (\"Hausa\")\n - haw (\"Havay\")\n - hi (\"Hind\")\n - nl (\"Holland\")\n - hr (\"Xorvat\")\n - xh (\"Xosa\")\n - yi (\"İdiş\")\n - ig (\"İqbo\")\n - id (\"İndoneziya\")\n - en (\"İngilis\")\n - ga (\"İrland\")\n - is (\"İsland\")\n - es (\"İspan\")\n - sv (\"İsveç\")\n - it (\"İtalyan\")\n - iw (\"İvrit\")\n - kn (\"Kannada\")\n - ca (\"Katalan\")\n - qu (\"Keçua\")\n - km (\"Kxmer\")\n - rw (\"Kinyarvanda\")\n - ko (\"Koreya\")\n - co (\"Korsika\")\n - kri (\"Kri\")\n - ku (\"Kürd\")\n - gl (\"Qalisiya\")\n - lg (\"Qanda\")\n - kk (\"Qazax\")\n - fy (\"Qərbi Friz\")\n - ky (\"Qırğız\")\n - gn (\"Quarani\")\n - gu (\"Qucarat\")\n - lo (\"Laos\")\n - la (\"Latın\")\n - lv (\"Latış\")\n - ln (\"Linqala\")\n - lt (\"Litva\")\n - lb (\"Lüksemburq\")\n - hu (\"Macar\")\n - mk (\"Makedon\")\n - mg (\"Malaqas\")\n - ms (\"Malay\")\n - ml (\"Malayalam\")\n - dv (\"Maldiv\")\n - mt (\"Malta\")\n - mi (\"Māori\")\n - mr (\"Marathi\")\n - hmn (\"Monq\")\n - mn (\"Monqol\")\n - und (\"Naməlum Dil\")\n - ne (\"Nepal\")\n - no (\"Norveç\")\n - ny (\"Nyanca\")\n - or (\"Odiya\")\n - om (\"Oromo\")\n - uz (\"Özbək\")\n - pa (\"Pəncab\")\n - pl (\"Polyak\")\n - pt (\"Portuqal\")\n - ps (\"Puştu\")\n - ro (\"Rumın\")\n - ru (\"Rus\")\n - sm (\"Samoa\")\n - sa (\"Sanskrit\")\n - ceb (\"Sebuan\")\n - sr (\"Serb\")\n - st (\"Sesoto\")\n - sd (\"Sindhi\")\n - si (\"Sinhala\")\n - sk (\"Slovak\")\n - sl (\"Sloven\")\n - so (\"Somali\")\n - ts (\"Sonqa\")\n - sw (\"Suahili\")\n - su (\"Sundan\")\n - nso (\"Şimal Soto\")\n - sn (\"Şona\")\n - gd (\"Şotlandiya Keltcəsi\")\n - tg (\"Tacik\")\n - ta (\"Tamil\")\n - tt (\"Tatar\")\n - th (\"Tay\")\n - te (\"Teluqu\")\n - ti (\"Tiqrin\")\n - tr (\"Türk\")\n - tk (\"Türkmən\")\n - cy (\"Uels\")\n - uk (\"Ukrayna\")\n - ur (\"Urdu\")\n - ug (\"Uyğur\")\n - vi (\"Vyetnam\")\n - ja (\"Yapon\")\n - jv (\"Yava\")\n - yo (\"Yoruba\")\n - el (\"Yunan\")\n - zu (\"Zulu\")\n\nIf you are sure that the described cause is not responsible for this error and that a transcript should be retrievable, please create an issue at https://github.com/jdepoix/youtube-transcript-api/issues. Please add which version of youtube_transcript_api you are using and provide the information needed to replicate the error. Also make sure that there are no open issues which already describe your problem!",
     "output_type": "error",
     "traceback": [
      "\u001b[1;31m---------------------------------------------------------------------------\u001b[0m",
      "\u001b[1;31mNoTranscriptFound\u001b[0m                         Traceback (most recent call last)",
      "\u001b[1;32mc:\\Users\\togru\\python-playground\\yt_automator\\youtube-automator\\temp.ipynb Cell 11\u001b[0m in \u001b[0;36m<cell line: 7>\u001b[1;34m()\u001b[0m\n\u001b[0;32m      <a href='vscode-notebook-cell:/c%3A/Users/togru/python-playground/yt_automator/youtube-automator/temp.ipynb#X14sZmlsZQ%3D%3D?line=0'>1</a>\u001b[0m \u001b[39mfrom\u001b[39;00m \u001b[39myoutube_transcript_api\u001b[39;00m \u001b[39mimport\u001b[39;00m YouTubeTranscriptApi\n\u001b[0;32m      <a href='vscode-notebook-cell:/c%3A/Users/togru/python-playground/yt_automator/youtube-automator/temp.ipynb#X14sZmlsZQ%3D%3D?line=2'>3</a>\u001b[0m \u001b[39m# assigning srt variable with the list of dictonaries\u001b[39;00m\n\u001b[0;32m      <a href='vscode-notebook-cell:/c%3A/Users/togru/python-playground/yt_automator/youtube-automator/temp.ipynb#X14sZmlsZQ%3D%3D?line=3'>4</a>\u001b[0m \u001b[39m# obtained by the the .get_transcript() function\u001b[39;00m\n\u001b[0;32m      <a href='vscode-notebook-cell:/c%3A/Users/togru/python-playground/yt_automator/youtube-automator/temp.ipynb#X14sZmlsZQ%3D%3D?line=4'>5</a>\u001b[0m \u001b[39m# and this time it gets only teh subtitles that\u001b[39;00m\n\u001b[0;32m      <a href='vscode-notebook-cell:/c%3A/Users/togru/python-playground/yt_automator/youtube-automator/temp.ipynb#X14sZmlsZQ%3D%3D?line=5'>6</a>\u001b[0m \u001b[39m# are of english langauge.\u001b[39;00m\n\u001b[1;32m----> <a href='vscode-notebook-cell:/c%3A/Users/togru/python-playground/yt_automator/youtube-automator/temp.ipynb#X14sZmlsZQ%3D%3D?line=6'>7</a>\u001b[0m srt \u001b[39m=\u001b[39m YouTubeTranscriptApi\u001b[39m.\u001b[39;49mget_transcript(\u001b[39m\"\u001b[39;49m\u001b[39mec5m6t77eYM\u001b[39;49m\u001b[39m\"\u001b[39;49m, \u001b[39m'\u001b[39;49m\u001b[39men\u001b[39;49m\u001b[39m'\u001b[39;49m)\n\u001b[0;32m      <a href='vscode-notebook-cell:/c%3A/Users/togru/python-playground/yt_automator/youtube-automator/temp.ipynb#X14sZmlsZQ%3D%3D?line=8'>9</a>\u001b[0m \u001b[39m# prints the result\u001b[39;00m\n\u001b[0;32m     <a href='vscode-notebook-cell:/c%3A/Users/togru/python-playground/yt_automator/youtube-automator/temp.ipynb#X14sZmlsZQ%3D%3D?line=9'>10</a>\u001b[0m \u001b[39mprint\u001b[39m(srt)\n",
      "File \u001b[1;32mc:\\Users\\togru\\anaconda3\\envs\\my_env\\lib\\site-packages\\youtube_transcript_api\\_api.py:132\u001b[0m, in \u001b[0;36mYouTubeTranscriptApi.get_transcript\u001b[1;34m(cls, video_id, languages, proxies, cookies)\u001b[0m\n\u001b[0;32m    113\u001b[0m \u001b[39m\"\"\"\u001b[39;00m\n\u001b[0;32m    114\u001b[0m \u001b[39mRetrieves the transcript for a single video. This is just a shortcut for calling::\u001b[39;00m\n\u001b[0;32m    115\u001b[0m \n\u001b[1;32m   (...)\u001b[0m\n\u001b[0;32m    129\u001b[0m \u001b[39m:rtype [{'text': str, 'start': float, 'end': float}]:\u001b[39;00m\n\u001b[0;32m    130\u001b[0m \u001b[39m\"\"\"\u001b[39;00m\n\u001b[0;32m    131\u001b[0m \u001b[39massert\u001b[39;00m \u001b[39misinstance\u001b[39m(video_id, \u001b[39mstr\u001b[39m), \u001b[39m\"\u001b[39m\u001b[39m`video_id` must be a string\u001b[39m\u001b[39m\"\u001b[39m\n\u001b[1;32m--> 132\u001b[0m \u001b[39mreturn\u001b[39;00m \u001b[39mcls\u001b[39;49m\u001b[39m.\u001b[39;49mlist_transcripts(video_id, proxies, cookies)\u001b[39m.\u001b[39;49mfind_transcript(languages)\u001b[39m.\u001b[39mfetch()\n",
      "File \u001b[1;32mc:\\Users\\togru\\anaconda3\\envs\\my_env\\lib\\site-packages\\youtube_transcript_api\\_transcripts.py:179\u001b[0m, in \u001b[0;36mTranscriptList.find_transcript\u001b[1;34m(self, language_codes)\u001b[0m\n\u001b[0;32m    165\u001b[0m \u001b[39mdef\u001b[39;00m \u001b[39mfind_transcript\u001b[39m(\u001b[39mself\u001b[39m, language_codes):\n\u001b[0;32m    166\u001b[0m     \u001b[39m\"\"\"\u001b[39;00m\n\u001b[0;32m    167\u001b[0m \u001b[39m    Finds a transcript for a given language code. Manually created transcripts are returned first and only if none\u001b[39;00m\n\u001b[0;32m    168\u001b[0m \u001b[39m    are found, generated transcripts are used. If you only want generated transcripts use\u001b[39;00m\n\u001b[1;32m   (...)\u001b[0m\n\u001b[0;32m    177\u001b[0m \u001b[39m    :raises: NoTranscriptFound\u001b[39;00m\n\u001b[0;32m    178\u001b[0m \u001b[39m    \"\"\"\u001b[39;00m\n\u001b[1;32m--> 179\u001b[0m     \u001b[39mreturn\u001b[39;00m \u001b[39mself\u001b[39;49m\u001b[39m.\u001b[39;49m_find_transcript(language_codes, [\u001b[39mself\u001b[39;49m\u001b[39m.\u001b[39;49m_manually_created_transcripts, \u001b[39mself\u001b[39;49m\u001b[39m.\u001b[39;49m_generated_transcripts])\n",
      "File \u001b[1;32mc:\\Users\\togru\\anaconda3\\envs\\my_env\\lib\\site-packages\\youtube_transcript_api\\_transcripts.py:215\u001b[0m, in \u001b[0;36mTranscriptList._find_transcript\u001b[1;34m(self, language_codes, transcript_dicts)\u001b[0m\n\u001b[0;32m    212\u001b[0m         \u001b[39mif\u001b[39;00m language_code \u001b[39min\u001b[39;00m transcript_dict:\n\u001b[0;32m    213\u001b[0m             \u001b[39mreturn\u001b[39;00m transcript_dict[language_code]\n\u001b[1;32m--> 215\u001b[0m \u001b[39mraise\u001b[39;00m NoTranscriptFound(\n\u001b[0;32m    216\u001b[0m     \u001b[39mself\u001b[39m\u001b[39m.\u001b[39mvideo_id,\n\u001b[0;32m    217\u001b[0m     language_codes,\n\u001b[0;32m    218\u001b[0m     \u001b[39mself\u001b[39m\n\u001b[0;32m    219\u001b[0m )\n",
      "\u001b[1;31mNoTranscriptFound\u001b[0m: \nCould not retrieve a transcript for the video https://www.youtube.com/watch?v=ec5m6t77eYM! This is most likely caused by:\n\nNo transcripts were found for any of the requested language codes: en\n\nFor this video (ec5m6t77eYM) transcripts are available in the following languages:\n\n(MANUALLY CREATED)\n - en-US (\"ingilis (Amerika Birləşmiş Ştatları)\")[TRANSLATABLE]\n\n(GENERATED)\n - en (\"ingilis (avtomatik yaradılmış)\")[TRANSLATABLE]\n\n(TRANSLATION LANGUAGES)\n - af (\"Afrikaans\")\n - ak (\"Akan\")\n - sq (\"Alban\")\n - de (\"Alman\")\n - am (\"Amhar\")\n - as (\"Assam\")\n - ay (\"Aymara\")\n - az (\"Azərbaycan\")\n - eu (\"Bask\")\n - be (\"Belarus\")\n - bn (\"Benqal\")\n - bho (\"Bxoçpuri\")\n - my (\"Birman\")\n - bg (\"Bolqar\")\n - bs (\"Bosniya\")\n - cs (\"Çex\")\n - zh-Hant (\"Çin (Ənənəvi)\")\n - zh-Hans (\"Çin (Sadələşmiş)\")\n - da (\"Danimarka\")\n - hy (\"Erməni\")\n - eo (\"Esperanto\")\n - et (\"Eston\")\n - ee (\"Eve\")\n - ar (\"Ərəb\")\n - fa (\"Fars\")\n - fil (\"Filippin\")\n - fi (\"Fin\")\n - fr (\"Fransız\")\n - ka (\"Gürcü\")\n - ht (\"Haiti Kreol\")\n - ha (\"Hausa\")\n - haw (\"Havay\")\n - hi (\"Hind\")\n - nl (\"Holland\")\n - hr (\"Xorvat\")\n - xh (\"Xosa\")\n - yi (\"İdiş\")\n - ig (\"İqbo\")\n - id (\"İndoneziya\")\n - en (\"İngilis\")\n - ga (\"İrland\")\n - is (\"İsland\")\n - es (\"İspan\")\n - sv (\"İsveç\")\n - it (\"İtalyan\")\n - iw (\"İvrit\")\n - kn (\"Kannada\")\n - ca (\"Katalan\")\n - qu (\"Keçua\")\n - km (\"Kxmer\")\n - rw (\"Kinyarvanda\")\n - ko (\"Koreya\")\n - co (\"Korsika\")\n - kri (\"Kri\")\n - ku (\"Kürd\")\n - gl (\"Qalisiya\")\n - lg (\"Qanda\")\n - kk (\"Qazax\")\n - fy (\"Qərbi Friz\")\n - ky (\"Qırğız\")\n - gn (\"Quarani\")\n - gu (\"Qucarat\")\n - lo (\"Laos\")\n - la (\"Latın\")\n - lv (\"Latış\")\n - ln (\"Linqala\")\n - lt (\"Litva\")\n - lb (\"Lüksemburq\")\n - hu (\"Macar\")\n - mk (\"Makedon\")\n - mg (\"Malaqas\")\n - ms (\"Malay\")\n - ml (\"Malayalam\")\n - dv (\"Maldiv\")\n - mt (\"Malta\")\n - mi (\"Māori\")\n - mr (\"Marathi\")\n - hmn (\"Monq\")\n - mn (\"Monqol\")\n - und (\"Naməlum Dil\")\n - ne (\"Nepal\")\n - no (\"Norveç\")\n - ny (\"Nyanca\")\n - or (\"Odiya\")\n - om (\"Oromo\")\n - uz (\"Özbək\")\n - pa (\"Pəncab\")\n - pl (\"Polyak\")\n - pt (\"Portuqal\")\n - ps (\"Puştu\")\n - ro (\"Rumın\")\n - ru (\"Rus\")\n - sm (\"Samoa\")\n - sa (\"Sanskrit\")\n - ceb (\"Sebuan\")\n - sr (\"Serb\")\n - st (\"Sesoto\")\n - sd (\"Sindhi\")\n - si (\"Sinhala\")\n - sk (\"Slovak\")\n - sl (\"Sloven\")\n - so (\"Somali\")\n - ts (\"Sonqa\")\n - sw (\"Suahili\")\n - su (\"Sundan\")\n - nso (\"Şimal Soto\")\n - sn (\"Şona\")\n - gd (\"Şotlandiya Keltcəsi\")\n - tg (\"Tacik\")\n - ta (\"Tamil\")\n - tt (\"Tatar\")\n - th (\"Tay\")\n - te (\"Teluqu\")\n - ti (\"Tiqrin\")\n - tr (\"Türk\")\n - tk (\"Türkmən\")\n - cy (\"Uels\")\n - uk (\"Ukrayna\")\n - ur (\"Urdu\")\n - ug (\"Uyğur\")\n - vi (\"Vyetnam\")\n - ja (\"Yapon\")\n - jv (\"Yava\")\n - yo (\"Yoruba\")\n - el (\"Yunan\")\n - zu (\"Zulu\")\n\nIf you are sure that the described cause is not responsible for this error and that a transcript should be retrievable, please create an issue at https://github.com/jdepoix/youtube-transcript-api/issues. Please add which version of youtube_transcript_api you are using and provide the information needed to replicate the error. Also make sure that there are no open issues which already describe your problem!"
     ]
    }
   ],
   "source": [
    "from youtube_transcript_api import YouTubeTranscriptApi\n",
    " \n",
    "# assigning srt variable with the list of dictonaries\n",
    "# obtained by the the .get_transcript() function\n",
    "# and this time it gets only teh subtitles that\n",
    "# are of english langauge.\n",
    "srt = YouTubeTranscriptApi.get_transcript(\"ec5m6t77eYM\", 'en')\n",
    " \n",
    "# prints the result\n",
    "print(srt)"
   ]
  }
 ],
 "metadata": {
  "kernelspec": {
   "display_name": "my_env",
   "language": "python",
   "name": "python3"
  },
  "language_info": {
   "codemirror_mode": {
    "name": "ipython",
    "version": 3
   },
   "file_extension": ".py",
   "mimetype": "text/x-python",
   "name": "python",
   "nbconvert_exporter": "python",
   "pygments_lexer": "ipython3",
   "version": "3.10.4"
  },
  "orig_nbformat": 4,
  "vscode": {
   "interpreter": {
    "hash": "387518b9bb933b2acbabe9c770b01d5280faf9fe9d0f55f5f7b391bf5a387d20"
   }
  }
 },
 "nbformat": 4,
 "nbformat_minor": 2
}
